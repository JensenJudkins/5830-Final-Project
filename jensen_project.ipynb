{
 "cells": [
  {
   "cell_type": "code",
   "execution_count": null,
   "metadata": {},
   "outputs": [],
   "source": [
    "\n",
    "#Imports \n",
    "import numpy as np\n",
    "import matplotlib.pyplot as plt\n",
    "import pandas as pd\n"
   ]
  },
  {
   "cell_type": "code",
   "execution_count": null,
   "metadata": {},
   "outputs": [],
   "source": [
    "#load dataset\n",
    "dataset = pd.read_csv('data/mibici_2014-2024.csv')\n",
    "print(dataset.columns)"
   ]
  },
  {
   "cell_type": "code",
   "execution_count": null,
   "metadata": {},
   "outputs": [],
   "source": [
    "dataset_id_names = pd.read_csv('data/nomenclature_2024.csv')\n"
   ]
  },
  {
   "cell_type": "code",
   "execution_count": null,
   "metadata": {},
   "outputs": [],
   "source": [
    "#Find most popular stations\n",
    "print(dataset['Origin_Id'].value_counts().head(5))\n",
    "print(dataset['Destination_Id'].value_counts().head(5))\n",
    "\n",
    "#Find most popular routes\n",
    "print(dataset.groupby(['Origin_Id', 'Destination_Id']).size().sort_values(ascending=False).head(5))\n",
    "\n"
   ]
  },
  {
   "cell_type": "code",
   "execution_count": null,
   "metadata": {},
   "outputs": [],
   "source": [
    "#Add new columns to dataset\n",
    "#Take Origin_Id and compare that to id in dataset_id_names\n",
    "#Add Origin_Name column, and Origin_Lat, Origin_Lon\n",
    "#Add Destination_Name column, and Destination_Lat, Destination_Lon\n",
    "dataset['Origin_Name'] = dataset['Origin_Id'].map(dataset_id_names.set_index('id')['name'])\n",
    "dataset['Origin_Lat'] = dataset['Origin_Id'].map(dataset_id_names.set_index('id')['latitude'])\n",
    "dataset['Origin_Lon'] = dataset['Origin_Id'].map(dataset_id_names.set_index('id')['longitude'])\n",
    "dataset['Destination_Name'] = dataset['Destination_Id'].map(dataset_id_names.set_index('id')['name'])\n",
    "dataset['Destination_Lat'] = dataset['Destination_Id'].map(dataset_id_names.set_index('id')['latitude'])\n",
    "dataset['Destination_Lon'] = dataset['Destination_Id'].map(dataset_id_names.set_index('id')['longitude'])\n",
    "\n",
    "\n",
    "dataset['Total_degree_difference'] = np.abs(dataset['Origin_Lon'] - dataset['Destination_Lon']) + np.abs(dataset['Origin_Lat'] - dataset['Destination_Lat'])\n",
    "\n",
    "\n",
    "print(dataset.head())"
   ]
  },
  {
   "cell_type": "code",
   "execution_count": null,
   "metadata": {},
   "outputs": [],
   "source": [
    "def reset_user_trips():\n",
    "    #user_trips = dataset['User_Id'].value_counts() and add birth year column\n",
    "    user_trips = dataset['User_Id'].value_counts()\n",
    "    #Add birth year column to user_trips\n",
    "    user_birth_year = dataset.groupby('User_Id')['Birth_year'].first()\n",
    "    user_trips = pd.DataFrame(user_trips)\n",
    "    user_trips['Birth_Year'] = user_birth_year\n",
    "    user_trips = user_trips.reset_index()\n",
    "    #SOrt by count column\n",
    "    user_trips = user_trips.sort_values(by='count', ascending=False)\n",
    "\n",
    "    \n",
    "    #Make user_trips only include users born after 1970\n",
    "    user_trips = user_trips[user_trips['Birth_Year'] > 1960]\n",
    "    return user_trips"
   ]
  },
  {
   "cell_type": "code",
   "execution_count": null,
   "metadata": {},
   "outputs": [],
   "source": [
    "\n",
    "user_trips = reset_user_trips()\n",
    "\n",
    "#Plot histogram of user birth years\n",
    "plt.hist(user_trips['Birth_Year'], bins=64)\n",
    "plt.xlabel('Birth Year')\n",
    "plt.ylabel('Number of Users')\n",
    "plt.title('Birth Year of Users')\n",
    "plt.show()\n",
    "\n",
    "#Show the quartiles of the birth years\n",
    "print(user_trips['Birth_Year'].quantile([0.25, 0.5, 0.75]))\n",
    "#graph quartiles\n",
    "plt.boxplot(user_trips['Birth_Year'])\n",
    "plt.ylabel('Birth Year')\n",
    "plt.title('Quartiles of Birth Years')\n",
    "plt.show()\n",
    "\n",
    "\n",
    "#Show graph of total count of trips per user by birth year\n",
    "user_trips = user_trips.groupby('Birth_Year')['count'].sum()\n",
    "plt.plot(user_trips)\n",
    "plt.xlabel('Birth Year')\n",
    "plt.ylabel('Total Number of Trips')\n",
    "plt.title('Total Number of Trips per User by Birth Year')\n",
    "plt.show()\n",
    "\n"
   ]
  },
  {
   "cell_type": "code",
   "execution_count": null,
   "metadata": {},
   "outputs": [],
   "source": [
    "user_trips = reset_user_trips()\n",
    "\n",
    "#Show graph of average count of trips per user by birth year\n",
    "user_trips = user_trips.groupby('Birth_Year')['count'].mean()\n",
    "plt.plot(user_trips)\n",
    "plt.xlabel('Birth Year')\n",
    "plt.ylabel('Average Number of Trips')\n",
    "plt.title('Average Number of Trips per User by Birth Year')\n",
    "plt.show()\n"
   ]
  },
  {
   "cell_type": "code",
   "execution_count": null,
   "metadata": {},
   "outputs": [],
   "source": [
    "#graph age to average duration\n",
    "\n",
    "trip_ended = dataset['Trip_end']\n",
    "\n",
    "year_ended = trip_ended.str.split('-').str[0]\n",
    "\n",
    "dataset['Age'] = year_ended.astype(int) - dataset['Birth_year']\n",
    "\n",
    "dataset.head()\n",
    "\n",
    "\n",
    "\n",
    "\n",
    "\n",
    "\n",
    "\n",
    "\n",
    "\n"
   ]
  },
  {
   "cell_type": "code",
   "execution_count": null,
   "metadata": {},
   "outputs": [],
   "source": [
    "#Show graph of average duration to number of trips\n",
    "\n",
    "avg_duration = []\n",
    "\n",
    "#convert '0 days 00:11:410' to seconds\n",
    "\n",
    "dataset['Duration'] = pd.to_timedelta(dataset['Duration'])\n",
    "\n",
    "print(dataset['Duration'].head())\n",
    "\n",
    "for i in range(100):\n",
    "    avg_duration.append(dataset[dataset['Age'] == i]['Duration'].mean().total_seconds())\n",
    "\n",
    "#Convert to minutes\n",
    "avg_duration = [x / 60 for x in avg_duration]\n",
    "\n",
    "\n",
    "\n",
    "\n",
    "plt.plot(avg_duration)\n",
    "plt.xlabel('Age')\n",
    "plt.ylabel('Average Duration')\n",
    "plt.title('Average Duration by Age')\n",
    "plt.show()"
   ]
  },
  {
   "cell_type": "code",
   "execution_count": null,
   "metadata": {},
   "outputs": [],
   "source": [
    "#Find average difference in lat and long from origin to destination and graph it against age\n",
    "avg_diff_lat = []\n",
    "avg_diff_lon = []\n",
    "\n",
    "avg_diff_total = []\n",
    "\n",
    "avg_diff_total_miles = []\n",
    "\n",
    "for i in range(100):\n",
    "    avg_diff_lat.append(dataset[dataset['Age'] == i]['Total_degree_difference'].mean())\n",
    "    avg_diff_lon.append(dataset[dataset['Age'] == i]['Total_degree_difference'].mean())\n",
    "    avg_diff_total.append(dataset[dataset['Age'] == i]['Total_degree_difference'].mean())\n",
    "    avg_diff_total_miles.append(dataset[dataset['Age'] == i]['Total_degree_difference'].mean() * 69)\n",
    "\n",
    "plt.plot(avg_diff_total_miles)\n",
    "plt.xlabel('Age')\n",
    "plt.ylabel('Average Difference in Lat and Lon in Miles')\n",
    "plt.title('Average Difference in Lat and Lon in Miles by Age')\n",
    "plt.show()\n",
    "\n",
    "\n"
   ]
  },
  {
   "cell_type": "code",
   "execution_count": null,
   "metadata": {},
   "outputs": [],
   "source": [
    "#Remove nan values\n",
    "avg_diff_total_miles = [x for x in avg_diff_total_miles if not np.isnan(x)]\n",
    "\n",
    "\n",
    "#Print quartiles of average difference in lat and lon in miles\n",
    "print(np.quantile(avg_diff_total_miles, [0.25, 0.5, 0.75]))\n",
    "#boxplot of average difference in lat and lon in miles\n",
    "plt.boxplot(avg_diff_total_miles)\n"
   ]
  }
 ],
 "metadata": {
  "kernelspec": {
   "display_name": "Python 3",
   "language": "python",
   "name": "python3"
  },
  "language_info": {
   "codemirror_mode": {
    "name": "ipython",
    "version": 3
   },
   "file_extension": ".py",
   "mimetype": "text/x-python",
   "name": "python",
   "nbconvert_exporter": "python",
   "pygments_lexer": "ipython3",
   "version": "3.12.0"
  }
 },
 "nbformat": 4,
 "nbformat_minor": 2
}
