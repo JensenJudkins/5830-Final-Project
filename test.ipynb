{
 "cells": [
  {
   "cell_type": "code",
   "execution_count": 423,
   "metadata": {},
   "outputs": [],
   "source": [
    "import pandas as pd\n",
    "import numpy as np\n",
    "import os\n",
    "from sklearn.linear_model import LinearRegression\n",
    "from sklearn.preprocessing import StandardScaler, Normalizer\n",
    "import matplotlib.pyplot as plt\n",
    "import seaborn as sns"
   ]
  },
  {
   "cell_type": "markdown",
   "metadata": {},
   "source": [
    "### Importing Data"
   ]
  },
  {
   "cell_type": "code",
   "execution_count": 424,
   "metadata": {},
   "outputs": [],
   "source": [
    "nomenclature = pd.read_csv(\"./data/nomenclature_2024.csv\")\n",
    "#trips = pd.read_csv(\"./data/mibici_2014-2024.csv\")\n",
    "\n",
    "college = pd.read_csv(\"./data/logan/LOGANFINAL/college.csv\")\n",
    "clothing = pd.read_csv(\"./data/logan/LOGANFINAL/clothing_stores.csv\")\n",
    "school0 = pd.read_csv(\"./data/logan/LOGANFINAL/school.csv\")\n",
    "school1 = pd.read_csv(\"./data/logan/LOGANFINAL/school1.csv\")\n",
    "school2 = pd.read_csv(\"./data/logan/LOGANFINAL/school2.csv\")\n",
    "school3 = pd.read_csv(\"./data/logan/LOGANFINAL/school3.csv\")\n",
    "grocery0 = pd.read_csv(\"./data/logan/LOGANFINAL/grocery_store.csv\")\n",
    "grocery1 = pd.read_csv(\"./data/logan/LOGANFINAL/grocery_store1.csv\")\n",
    "\n",
    "loganlist = list([college0, clothing0, school0, school1, school2, school3, grocery0, grocery1])\n",
    "\n",
    "colegio0 = pd.read_csv(\"./data/guadalajara/guadaFR/colegio.csv\")\n",
    "colegio1 = pd.read_csv(\"./data/guadalajara/guadaFR/colegio1.csv\")\n",
    "colegio2 = pd.read_csv(\"./data/guadalajara/guadaFR/colegio2.csv\")\n",
    "colegio3 = pd.read_csv(\"./data/guadalajara/guadaFR/colegio3.csv\")\n",
    "colegio4 = pd.read_csv(\"./data/guadalajara/guadaFR/colegio4.csv\")\n",
    "escuela0 = pd.read_csv(\"./data/guadalajara/guadaFR/escuela.csv\")\n",
    "escuela1 = pd.read_csv(\"./data/guadalajara/guadaFR/escuela1.csv\")\n",
    "escuela2 = pd.read_csv(\"./data/guadalajara/guadaFR/escuela2.csv\")\n",
    "escuela3 = pd.read_csv(\"./data/guadalajara/guadaFR/escuela3.csv\")\n",
    "escuela4 = pd.read_csv(\"./data/guadalajara/guadaFR/escuela4.csv\")\n",
    "escuela5 = pd.read_csv(\"./data/guadalajara/guadaFR/escuela5.csv\")\n",
    "escuela6 = pd.read_csv(\"./data/guadalajara/guadaFR/escuela6.csv\")\n",
    "super0 = pd.read_csv(\"./data/guadalajara/guadaFR/supermercado.csv\")\n",
    "tienda0 = pd.read_csv(\"./data/guadalajara/guadaFR/tienda.csv\")\n",
    "tienda1 = pd.read_csv(\"./data/guadalajara/guadaFR/tienda1.csv\")\n",
    "tienda2 = pd.read_csv(\"./data/guadalajara/guadaFR/tienda2.csv\")\n",
    "tienda3 = pd.read_csv(\"./data/guadalajara/guadaFR/tienda3.csv\")\n",
    "tienda4 = pd.read_csv(\"./data/guadalajara/guadaFR/tienda4.csv\")\n",
    "tienda5 = pd.read_csv(\"./data/guadalajara/guadaFR/tienda5.csv\")\n",
    "tienda6 = pd.read_csv(\"./data/guadalajara/guadaFR/tienda6.csv\")\n",
    "tienda7 = pd.read_csv(\"./data/guadalajara/guadaFR/tienda7.csv\")\n",
    "universidad0 = pd.read_csv(\"./data/guadalajara/guadaFR/universidad.csv\")\n",
    "universidad1 = pd.read_csv(\"./data/guadalajara/guadaFR/universidad1.csv\")\n",
    "universidad2 = pd.read_csv(\"./data/guadalajara/guadaFR/universidad2.csv\")\n",
    "universidad3 = pd.read_csv(\"./data/guadalajara/guadaFR/universidad3.csv\")\n",
    "universidad4 = pd.read_csv(\"./data/guadalajara/guadaFR/universidad4.csv\")\n",
    "universidad5 = pd.read_csv(\"./data/guadalajara/guadaFR/universidad5.csv\")\n",
    "universidad6 = pd.read_csv(\"./data/guadalajara/guadaFR/universidad6.csv\")\n",
    "universidad7 = pd.read_csv(\"./data/guadalajara/guadaFR/universidad7.csv\")\n",
    "\n",
    "guadalist = list([colegio0, colegio1, colegio2, colegio3, colegio4, escuela0,\n",
    " escuela1, escuela2, escuela3, escuela4, escuela5, escuela6, super0, tienda0,\n",
    "  tienda1, tienda2, tienda3, tienda4, tienda5, tienda6, tienda7, universidad0,\n",
    "   universidad1, universidad2, universidad3, universidad4, universidad5,\n",
    "    universidad6, universidad7])"
   ]
  },
  {
   "cell_type": "code",
   "execution_count": 425,
   "metadata": {},
   "outputs": [],
   "source": [
    "from shapely.geometry import Point\n",
    "import geopandas as gp"
   ]
  },
  {
   "cell_type": "markdown",
   "metadata": {},
   "source": [
    "### Preprocessing"
   ]
  },
  {
   "cell_type": "markdown",
   "metadata": {},
   "source": [
    "Establishing GeoDataFrames:"
   ]
  },
  {
   "cell_type": "code",
   "execution_count": 426,
   "metadata": {},
   "outputs": [],
   "source": [
    "geomnom = [Point(xy) for xy in zip(nomenclature.longitude, nomenclature.latitude)]\n",
    "nomenclature_geo = gp.GeoDataFrame(nomenclature.drop(columns={\"longitude\", \"latitude\"}), geometry=geomnom, crs=\"EPSG:4326\")"
   ]
  },
  {
   "cell_type": "markdown",
   "metadata": {},
   "source": [
    "For each station ID, we want to find the distance to the nearest geographic feature of each type (food, school, store, etc.). This will hopefully let us predict the popularity of each station."
   ]
  },
  {
   "cell_type": "code",
   "execution_count": 427,
   "metadata": {},
   "outputs": [],
   "source": [
    "schools = pd.concat([school0, school1, school2, school3])\n",
    "groceries = pd.concat([grocery0, grocery1])\n",
    "\n",
    "colegios = pd.concat([colegio0, colegio1, colegio2, colegio3, colegio4, universidad0, universidad1, universidad2, universidad3, universidad4, universidad5, universidad6, universidad7])\n",
    "grocerias = pd.concat([tienda0, tienda1, tienda2, tienda3, tienda4, tienda5, tienda6, tienda7])\n",
    "escuelas = pd.concat([escuela1, escuela2, escuela3, escuela4, escuela5, escuela6])"
   ]
  },
  {
   "cell_type": "code",
   "execution_count": 428,
   "metadata": {},
   "outputs": [],
   "source": [
    "college[\"type\"] = \"college\"\n",
    "schools[\"type\"] = \"school\"\n",
    "groceries[\"type\"] = \"groceries\"\n",
    "\n",
    "colegios[\"type\"] = \"college\"\n",
    "escuelas[\"type\"] = \"school\"\n",
    "grocerias[\"type\"] = \"groceries\""
   ]
  },
  {
   "cell_type": "code",
   "execution_count": 429,
   "metadata": {},
   "outputs": [],
   "source": [
    "LOGAN = pd.concat([college, groceries, schools]).drop(columns= {\"description\", \"placepageUri\"})\n",
    "GUADA = pd.concat([colegios, grocerias, escuelas]).drop(columns= {\"description\", \"placepageUri\"})"
   ]
  },
  {
   "cell_type": "markdown",
   "metadata": {},
   "source": [
    "### A bit of cleaning"
   ]
  },
  {
   "cell_type": "code",
   "execution_count": 430,
   "metadata": {},
   "outputs": [],
   "source": [
    "logan_geo = [Point(xy) for xy in zip(LOGAN.X, LOGAN.Y)]\n",
    "guada_geo = [Point(xy) for xy in zip(GUADA.X, GUADA.Y)]\n",
    "\n",
    "LOGAN_GDF = gp.GeoDataFrame(LOGAN.drop(columns={\"X\", \"Y\"}), geometry=logan_geo, crs=\"EPSG:4326\")\n",
    "GUADA_GDF = gp.GeoDataFrame(GUADA.drop(columns={\"X\", \"Y\"}), geometry=guada_geo, crs=\"EPSG:4326\")"
   ]
  },
  {
   "cell_type": "code",
   "execution_count": 431,
   "metadata": {},
   "outputs": [
    {
     "data": {
      "text/html": [
       "<div>\n",
       "<style scoped>\n",
       "    .dataframe tbody tr th:only-of-type {\n",
       "        vertical-align: middle;\n",
       "    }\n",
       "\n",
       "    .dataframe tbody tr th {\n",
       "        vertical-align: top;\n",
       "    }\n",
       "\n",
       "    .dataframe thead th {\n",
       "        text-align: right;\n",
       "    }\n",
       "</style>\n",
       "<table border=\"1\" class=\"dataframe\">\n",
       "  <thead>\n",
       "    <tr style=\"text-align: right;\">\n",
       "      <th></th>\n",
       "      <th>Name</th>\n",
       "      <th>type</th>\n",
       "      <th>geometry</th>\n",
       "    </tr>\n",
       "  </thead>\n",
       "  <tbody>\n",
       "    <tr>\n",
       "      <th>0</th>\n",
       "      <td>Colegio Los Altos</td>\n",
       "      <td>college</td>\n",
       "      <td>POINT (-103.40752 20.68410)</td>\n",
       "    </tr>\n",
       "    <tr>\n",
       "      <th>1</th>\n",
       "      <td>COLLEGE OF COUNTRY LICEO</td>\n",
       "      <td>college</td>\n",
       "      <td>POINT (-103.37015 20.71024)</td>\n",
       "    </tr>\n",
       "    <tr>\n",
       "      <th>2</th>\n",
       "      <td>Colegio Real Guadalajara</td>\n",
       "      <td>college</td>\n",
       "      <td>POINT (-103.36467 20.62778)</td>\n",
       "    </tr>\n",
       "    <tr>\n",
       "      <th>3</th>\n",
       "      <td>Lopez de Legazpi school A.C.</td>\n",
       "      <td>college</td>\n",
       "      <td>POINT (-103.37905 20.63943)</td>\n",
       "    </tr>\n",
       "    <tr>\n",
       "      <th>4</th>\n",
       "      <td>Colegio Finlandés campus López Mateos, Tlajomulco</td>\n",
       "      <td>college</td>\n",
       "      <td>POINT (-103.44976 20.57720)</td>\n",
       "    </tr>\n",
       "  </tbody>\n",
       "</table>\n",
       "</div>"
      ],
      "text/plain": [
       "                                                Name     type  \\\n",
       "0                                  Colegio Los Altos  college   \n",
       "1                           COLLEGE OF COUNTRY LICEO  college   \n",
       "2                           Colegio Real Guadalajara  college   \n",
       "3                       Lopez de Legazpi school A.C.  college   \n",
       "4  Colegio Finlandés campus López Mateos, Tlajomulco  college   \n",
       "\n",
       "                      geometry  \n",
       "0  POINT (-103.40752 20.68410)  \n",
       "1  POINT (-103.37015 20.71024)  \n",
       "2  POINT (-103.36467 20.62778)  \n",
       "3  POINT (-103.37905 20.63943)  \n",
       "4  POINT (-103.44976 20.57720)  "
      ]
     },
     "execution_count": 431,
     "metadata": {},
     "output_type": "execute_result"
    }
   ],
   "source": [
    "GUADA_GDF.head()"
   ]
  },
  {
   "cell_type": "markdown",
   "metadata": {},
   "source": [
    "### Preparing station dataset"
   ]
  },
  {
   "cell_type": "code",
   "execution_count": 432,
   "metadata": {},
   "outputs": [],
   "source": [
    "nomenclature_geo = nomenclature_geo.drop(columns={\"obcn\", \"location\", \"status\"})"
   ]
  },
  {
   "cell_type": "code",
   "execution_count": 433,
   "metadata": {},
   "outputs": [
    {
     "data": {
      "text/html": [
       "<div>\n",
       "<style scoped>\n",
       "    .dataframe tbody tr th:only-of-type {\n",
       "        vertical-align: middle;\n",
       "    }\n",
       "\n",
       "    .dataframe tbody tr th {\n",
       "        vertical-align: top;\n",
       "    }\n",
       "\n",
       "    .dataframe thead th {\n",
       "        text-align: right;\n",
       "    }\n",
       "</style>\n",
       "<table border=\"1\" class=\"dataframe\">\n",
       "  <thead>\n",
       "    <tr style=\"text-align: right;\">\n",
       "      <th></th>\n",
       "      <th>id</th>\n",
       "      <th>name</th>\n",
       "      <th>geometry</th>\n",
       "    </tr>\n",
       "  </thead>\n",
       "  <tbody>\n",
       "    <tr>\n",
       "      <th>0</th>\n",
       "      <td>2</td>\n",
       "      <td>(GDL-001) C. Epigmenio Glez./ Av. 16 de Sept.</td>\n",
       "      <td>POINT (-103.34882 20.66638)</td>\n",
       "    </tr>\n",
       "    <tr>\n",
       "      <th>1</th>\n",
       "      <td>3</td>\n",
       "      <td>(GDL-002) C. Colonias  / Av.  Niños héroes</td>\n",
       "      <td>POINT (-103.36600 20.66723)</td>\n",
       "    </tr>\n",
       "    <tr>\n",
       "      <th>2</th>\n",
       "      <td>4</td>\n",
       "      <td>(GDL-003) C. Vidrio / Av. Chapultepec</td>\n",
       "      <td>POINT (-103.36825 20.66769)</td>\n",
       "    </tr>\n",
       "    <tr>\n",
       "      <th>3</th>\n",
       "      <td>5</td>\n",
       "      <td>(GDL-004) C. Ghilardi /C. Miraflores</td>\n",
       "      <td>POINT (-103.36255 20.69175)</td>\n",
       "    </tr>\n",
       "    <tr>\n",
       "      <th>4</th>\n",
       "      <td>6</td>\n",
       "      <td>(GDL-005) C. San Diego /Calzada Independencia</td>\n",
       "      <td>POINT (-103.33936 20.68116)</td>\n",
       "    </tr>\n",
       "  </tbody>\n",
       "</table>\n",
       "</div>"
      ],
      "text/plain": [
       "   id                                           name  \\\n",
       "0   2  (GDL-001) C. Epigmenio Glez./ Av. 16 de Sept.   \n",
       "1   3     (GDL-002) C. Colonias  / Av.  Niños héroes   \n",
       "2   4          (GDL-003) C. Vidrio / Av. Chapultepec   \n",
       "3   5           (GDL-004) C. Ghilardi /C. Miraflores   \n",
       "4   6  (GDL-005) C. San Diego /Calzada Independencia   \n",
       "\n",
       "                      geometry  \n",
       "0  POINT (-103.34882 20.66638)  \n",
       "1  POINT (-103.36600 20.66723)  \n",
       "2  POINT (-103.36825 20.66769)  \n",
       "3  POINT (-103.36255 20.69175)  \n",
       "4  POINT (-103.33936 20.68116)  "
      ]
     },
     "execution_count": 433,
     "metadata": {},
     "output_type": "execute_result"
    }
   ],
   "source": [
    "nomenclature_geo.head()"
   ]
  },
  {
   "cell_type": "markdown",
   "metadata": {},
   "source": [
    "### Getting station popularity scores"
   ]
  },
  {
   "cell_type": "code",
   "execution_count": 434,
   "metadata": {},
   "outputs": [],
   "source": [
    "trips = pd.read_csv(\"./data/mibici_2014-2024.csv\")"
   ]
  },
  {
   "cell_type": "code",
   "execution_count": 435,
   "metadata": {},
   "outputs": [
    {
     "data": {
      "text/html": [
       "<div>\n",
       "<style scoped>\n",
       "    .dataframe tbody tr th:only-of-type {\n",
       "        vertical-align: middle;\n",
       "    }\n",
       "\n",
       "    .dataframe tbody tr th {\n",
       "        vertical-align: top;\n",
       "    }\n",
       "\n",
       "    .dataframe thead th {\n",
       "        text-align: right;\n",
       "    }\n",
       "</style>\n",
       "<table border=\"1\" class=\"dataframe\">\n",
       "  <thead>\n",
       "    <tr style=\"text-align: right;\">\n",
       "      <th></th>\n",
       "      <th>Unnamed: 0</th>\n",
       "      <th>Trip_Id</th>\n",
       "      <th>User_Id</th>\n",
       "      <th>Sex</th>\n",
       "      <th>Birth_year</th>\n",
       "      <th>Trip_start</th>\n",
       "      <th>Trip_end</th>\n",
       "      <th>Origin_Id</th>\n",
       "      <th>Destination_Id</th>\n",
       "      <th>Age</th>\n",
       "      <th>Duration</th>\n",
       "    </tr>\n",
       "  </thead>\n",
       "  <tbody>\n",
       "    <tr>\n",
       "      <th>0</th>\n",
       "      <td>0</td>\n",
       "      <td>32244893</td>\n",
       "      <td>1470734</td>\n",
       "      <td>M</td>\n",
       "      <td>1981</td>\n",
       "      <td>2024-01-31 23:59:33</td>\n",
       "      <td>2024-02-01 00:11:15</td>\n",
       "      <td>24</td>\n",
       "      <td>86</td>\n",
       "      <td>43</td>\n",
       "      <td>0 days 00:11:42</td>\n",
       "    </tr>\n",
       "    <tr>\n",
       "      <th>1</th>\n",
       "      <td>1</td>\n",
       "      <td>32244892</td>\n",
       "      <td>2731702</td>\n",
       "      <td>M</td>\n",
       "      <td>1994</td>\n",
       "      <td>2024-01-31 23:59:06</td>\n",
       "      <td>2024-02-01 00:10:49</td>\n",
       "      <td>48</td>\n",
       "      <td>279</td>\n",
       "      <td>30</td>\n",
       "      <td>0 days 00:11:43</td>\n",
       "    </tr>\n",
       "    <tr>\n",
       "      <th>2</th>\n",
       "      <td>2</td>\n",
       "      <td>32244891</td>\n",
       "      <td>1431452</td>\n",
       "      <td>M</td>\n",
       "      <td>2001</td>\n",
       "      <td>2024-01-31 23:58:48</td>\n",
       "      <td>2024-02-01 00:01:42</td>\n",
       "      <td>273</td>\n",
       "      <td>383</td>\n",
       "      <td>23</td>\n",
       "      <td>0 days 00:02:54</td>\n",
       "    </tr>\n",
       "    <tr>\n",
       "      <th>3</th>\n",
       "      <td>3</td>\n",
       "      <td>32244890</td>\n",
       "      <td>2312602</td>\n",
       "      <td>F</td>\n",
       "      <td>2003</td>\n",
       "      <td>2024-01-31 23:58:44</td>\n",
       "      <td>2024-02-01 00:01:58</td>\n",
       "      <td>273</td>\n",
       "      <td>383</td>\n",
       "      <td>21</td>\n",
       "      <td>0 days 00:03:14</td>\n",
       "    </tr>\n",
       "    <tr>\n",
       "      <th>4</th>\n",
       "      <td>4</td>\n",
       "      <td>32244889</td>\n",
       "      <td>2266427</td>\n",
       "      <td>M</td>\n",
       "      <td>1999</td>\n",
       "      <td>2024-01-31 23:58:44</td>\n",
       "      <td>2024-02-01 00:01:39</td>\n",
       "      <td>273</td>\n",
       "      <td>383</td>\n",
       "      <td>25</td>\n",
       "      <td>0 days 00:02:55</td>\n",
       "    </tr>\n",
       "  </tbody>\n",
       "</table>\n",
       "</div>"
      ],
      "text/plain": [
       "   Unnamed: 0   Trip_Id  User_Id Sex  Birth_year           Trip_start  \\\n",
       "0           0  32244893  1470734   M        1981  2024-01-31 23:59:33   \n",
       "1           1  32244892  2731702   M        1994  2024-01-31 23:59:06   \n",
       "2           2  32244891  1431452   M        2001  2024-01-31 23:58:48   \n",
       "3           3  32244890  2312602   F        2003  2024-01-31 23:58:44   \n",
       "4           4  32244889  2266427   M        1999  2024-01-31 23:58:44   \n",
       "\n",
       "              Trip_end  Origin_Id  Destination_Id  Age         Duration  \n",
       "0  2024-02-01 00:11:15         24              86   43  0 days 00:11:42  \n",
       "1  2024-02-01 00:10:49         48             279   30  0 days 00:11:43  \n",
       "2  2024-02-01 00:01:42        273             383   23  0 days 00:02:54  \n",
       "3  2024-02-01 00:01:58        273             383   21  0 days 00:03:14  \n",
       "4  2024-02-01 00:01:39        273             383   25  0 days 00:02:55  "
      ]
     },
     "execution_count": 435,
     "metadata": {},
     "output_type": "execute_result"
    }
   ],
   "source": [
    "trips.head()"
   ]
  },
  {
   "cell_type": "code",
   "execution_count": 436,
   "metadata": {},
   "outputs": [],
   "source": [
    "frompop = trips.value_counts(subset=[\"Origin_Id\"]).rename_axis(\"Id\")\n",
    "topop = trips.value_counts(subset=[\"Destination_Id\"]).rename_axis(\"Id\")\n",
    "frompop.index.name = \"Id\"\n",
    "topop.index.name = \"Id\""
   ]
  },
  {
   "cell_type": "code",
   "execution_count": 437,
   "metadata": {},
   "outputs": [
    {
     "data": {
      "text/plain": [
       "Id\n",
       "51    564459\n",
       "50    420088\n",
       "11    409269\n",
       "52    393887\n",
       "35    356081\n",
       "Name: count, dtype: int64"
      ]
     },
     "execution_count": 437,
     "metadata": {},
     "output_type": "execute_result"
    }
   ],
   "source": [
    "frompop.head()"
   ]
  },
  {
   "cell_type": "code",
   "execution_count": 438,
   "metadata": {},
   "outputs": [
    {
     "data": {
      "text/plain": [
       "Id\n",
       "51    744406\n",
       "50    443538\n",
       "35    395293\n",
       "52    389553\n",
       "54    386861\n",
       "Name: count, dtype: int64"
      ]
     },
     "execution_count": 438,
     "metadata": {},
     "output_type": "execute_result"
    }
   ],
   "source": [
    "topop.head()"
   ]
  },
  {
   "cell_type": "markdown",
   "metadata": {},
   "source": [
    "Apparently, some stations are more popular as destinations than origins, and vice versa. For our popularity score, we will average the origin and destination popularity and normalize."
   ]
  },
  {
   "cell_type": "code",
   "execution_count": 439,
   "metadata": {},
   "outputs": [],
   "source": [
    "poptotal = frompop.add(topop, fill_value=0)"
   ]
  },
  {
   "cell_type": "code",
   "execution_count": 440,
   "metadata": {},
   "outputs": [
    {
     "data": {
      "text/plain": [
       "Id\n",
       "2     279824\n",
       "3     213503\n",
       "4     297708\n",
       "5     191627\n",
       "6     182698\n",
       "Name: count, dtype: int64"
      ]
     },
     "execution_count": 440,
     "metadata": {},
     "output_type": "execute_result"
    }
   ],
   "source": [
    "poptotal.head()"
   ]
  },
  {
   "cell_type": "code",
   "execution_count": 441,
   "metadata": {},
   "outputs": [],
   "source": [
    "popscore = (poptotal-poptotal.min())/(poptotal.max()-poptotal.min())"
   ]
  },
  {
   "cell_type": "code",
   "execution_count": 442,
   "metadata": {},
   "outputs": [
    {
     "data": {
      "text/plain": [
       "Id\n",
       "2     0.213767\n",
       "3     0.163095\n",
       "4     0.227431\n",
       "5     0.146381\n",
       "6     0.139559\n",
       "Name: count, dtype: float64"
      ]
     },
     "execution_count": 442,
     "metadata": {},
     "output_type": "execute_result"
    }
   ],
   "source": [
    "popscore.head()"
   ]
  },
  {
   "cell_type": "code",
   "execution_count": 443,
   "metadata": {},
   "outputs": [
    {
     "data": {
      "text/plain": [
       "Id\n",
       "2     0.213767\n",
       "3     0.163095\n",
       "4     0.227431\n",
       "5     0.146381\n",
       "6     0.139559\n",
       "8     0.111103\n",
       "9     0.207952\n",
       "10    0.176835\n",
       "Name: count, dtype: float64"
      ]
     },
     "execution_count": 443,
     "metadata": {},
     "output_type": "execute_result"
    }
   ],
   "source": [
    "popscore.head(8)"
   ]
  },
  {
   "cell_type": "code",
   "execution_count": 444,
   "metadata": {},
   "outputs": [],
   "source": [
    "from scipy.spatial import cKDTree\n",
    "def ckdnearest(gdA, gdB): # Adapted from: https://gis.stackexchange.com/questions/222315/finding-nearest-point-in-other-geodataframe-using-geopandas\n",
    "\n",
    "    nA = np.array(list(gdA.geometry.apply(lambda x: (x.x, x.y))))\n",
    "    nB = np.array(list(gdB.geometry.apply(lambda x: (x.x, x.y))))\n",
    "    btree = cKDTree(nB)\n",
    "    dist, idx = btree.query(nA, k=1)\n",
    "    gdB_nearest = gdB.iloc[idx].drop(columns=\"geometry\").reset_index(drop=True)\n",
    "    gdf = pd.concat(\n",
    "        [\n",
    "            gdA.reset_index(drop=True),\n",
    "            gdB_nearest,\n",
    "            pd.Series(dist, name='dist')\n",
    "        ], \n",
    "        axis=1)\n",
    "\n",
    "    return gdf"
   ]
  },
  {
   "cell_type": "code",
   "execution_count": 445,
   "metadata": {},
   "outputs": [],
   "source": [
    "guada_nearest_school = ckdnearest(nomenclature_geo, GUADA_GDF[GUADA_GDF[\"type\"] == \"school\"])\n",
    "guada_nearest_college = ckdnearest(nomenclature_geo, GUADA_GDF[GUADA_GDF[\"type\"] == \"college\"])\n",
    "guada_nearest_grocery = ckdnearest(nomenclature_geo, GUADA_GDF[GUADA_GDF[\"type\"] == \"groceries\"])\n",
    "\n",
    "# logan_nearest_school = ckdnearest(???, LOGAN_GDF[LOGAN_GDF[\"type\"] == \"school\"])\n",
    "# logan_nearest_college = ckdnearest(???, LOGAN_GDF[LOGAN_GDF[\"type\"] == \"college\"])\n",
    "# logan_nearest_grocery = ckdnearest(???, LOGAN_GDF[LOGAN_GDF[\"type\"] == \"groceries\"])\n"
   ]
  },
  {
   "cell_type": "code",
   "execution_count": 446,
   "metadata": {},
   "outputs": [
    {
     "data": {
      "text/html": [
       "<div>\n",
       "<style scoped>\n",
       "    .dataframe tbody tr th:only-of-type {\n",
       "        vertical-align: middle;\n",
       "    }\n",
       "\n",
       "    .dataframe tbody tr th {\n",
       "        vertical-align: top;\n",
       "    }\n",
       "\n",
       "    .dataframe thead th {\n",
       "        text-align: right;\n",
       "    }\n",
       "</style>\n",
       "<table border=\"1\" class=\"dataframe\">\n",
       "  <thead>\n",
       "    <tr style=\"text-align: right;\">\n",
       "      <th></th>\n",
       "      <th>id</th>\n",
       "      <th>name</th>\n",
       "      <th>geometry</th>\n",
       "      <th>Name</th>\n",
       "      <th>type</th>\n",
       "      <th>dist</th>\n",
       "    </tr>\n",
       "  </thead>\n",
       "  <tbody>\n",
       "    <tr>\n",
       "      <th>0</th>\n",
       "      <td>2</td>\n",
       "      <td>(GDL-001) C. Epigmenio Glez./ Av. 16 de Sept.</td>\n",
       "      <td>POINT (-103.34882 20.66638)</td>\n",
       "      <td>Escuela Urbana 39 Benito Juárez</td>\n",
       "      <td>school</td>\n",
       "      <td>0.015914</td>\n",
       "    </tr>\n",
       "    <tr>\n",
       "      <th>1</th>\n",
       "      <td>3</td>\n",
       "      <td>(GDL-002) C. Colonias  / Av.  Niños héroes</td>\n",
       "      <td>POINT (-103.36600 20.66723)</td>\n",
       "      <td>Escuela Urbana 39 Benito Juárez</td>\n",
       "      <td>school</td>\n",
       "      <td>0.013081</td>\n",
       "    </tr>\n",
       "    <tr>\n",
       "      <th>2</th>\n",
       "      <td>4</td>\n",
       "      <td>(GDL-003) C. Vidrio / Av. Chapultepec</td>\n",
       "      <td>POINT (-103.36825 20.66769)</td>\n",
       "      <td>Escuela Urbana 39 Benito Juárez</td>\n",
       "      <td>school</td>\n",
       "      <td>0.014584</td>\n",
       "    </tr>\n",
       "    <tr>\n",
       "      <th>3</th>\n",
       "      <td>5</td>\n",
       "      <td>(GDL-004) C. Ghilardi /C. Miraflores</td>\n",
       "      <td>POINT (-103.36255 20.69175)</td>\n",
       "      <td>Escuela Secundaria Técnica # 4</td>\n",
       "      <td>school</td>\n",
       "      <td>0.008654</td>\n",
       "    </tr>\n",
       "    <tr>\n",
       "      <th>4</th>\n",
       "      <td>6</td>\n",
       "      <td>(GDL-005) C. San Diego /Calzada Independencia</td>\n",
       "      <td>POINT (-103.33936 20.68116)</td>\n",
       "      <td>Escuela PriMaría Urbana Luis Pérez</td>\n",
       "      <td>school</td>\n",
       "      <td>0.013344</td>\n",
       "    </tr>\n",
       "    <tr>\n",
       "      <th>5</th>\n",
       "      <td>8</td>\n",
       "      <td>(GDL-006) C. Venustiano Carranza /C. Reforma</td>\n",
       "      <td>POINT (-103.34441 20.68072)</td>\n",
       "      <td>Escuela PriMaría Urbana Luis Pérez</td>\n",
       "      <td>school</td>\n",
       "      <td>0.017254</td>\n",
       "    </tr>\n",
       "    <tr>\n",
       "      <th>6</th>\n",
       "      <td>9</td>\n",
       "      <td>(GDL-007) C. Epigmenio Glez./Av. Cristobal C.</td>\n",
       "      <td>POINT (-103.35056 20.66677)</td>\n",
       "      <td>Escuela Urbana 39 Benito Juárez</td>\n",
       "      <td>school</td>\n",
       "      <td>0.014994</td>\n",
       "    </tr>\n",
       "    <tr>\n",
       "      <th>7</th>\n",
       "      <td>10</td>\n",
       "      <td>(GDL-008) C. J. Angulo / C. González Ortega</td>\n",
       "      <td>POINT (-103.35040 20.68187)</td>\n",
       "      <td>Escuela PriMaría Urbana Luis Pérez</td>\n",
       "      <td>school</td>\n",
       "      <td>0.021695</td>\n",
       "    </tr>\n",
       "  </tbody>\n",
       "</table>\n",
       "</div>"
      ],
      "text/plain": [
       "   id                                           name  \\\n",
       "0   2  (GDL-001) C. Epigmenio Glez./ Av. 16 de Sept.   \n",
       "1   3     (GDL-002) C. Colonias  / Av.  Niños héroes   \n",
       "2   4          (GDL-003) C. Vidrio / Av. Chapultepec   \n",
       "3   5           (GDL-004) C. Ghilardi /C. Miraflores   \n",
       "4   6  (GDL-005) C. San Diego /Calzada Independencia   \n",
       "5   8   (GDL-006) C. Venustiano Carranza /C. Reforma   \n",
       "6   9  (GDL-007) C. Epigmenio Glez./Av. Cristobal C.   \n",
       "7  10    (GDL-008) C. J. Angulo / C. González Ortega   \n",
       "\n",
       "                      geometry                                Name    type  \\\n",
       "0  POINT (-103.34882 20.66638)     Escuela Urbana 39 Benito Juárez  school   \n",
       "1  POINT (-103.36600 20.66723)     Escuela Urbana 39 Benito Juárez  school   \n",
       "2  POINT (-103.36825 20.66769)     Escuela Urbana 39 Benito Juárez  school   \n",
       "3  POINT (-103.36255 20.69175)      Escuela Secundaria Técnica # 4  school   \n",
       "4  POINT (-103.33936 20.68116)  Escuela PriMaría Urbana Luis Pérez  school   \n",
       "5  POINT (-103.34441 20.68072)  Escuela PriMaría Urbana Luis Pérez  school   \n",
       "6  POINT (-103.35056 20.66677)     Escuela Urbana 39 Benito Juárez  school   \n",
       "7  POINT (-103.35040 20.68187)  Escuela PriMaría Urbana Luis Pérez  school   \n",
       "\n",
       "       dist  \n",
       "0  0.015914  \n",
       "1  0.013081  \n",
       "2  0.014584  \n",
       "3  0.008654  \n",
       "4  0.013344  \n",
       "5  0.017254  \n",
       "6  0.014994  \n",
       "7  0.021695  "
      ]
     },
     "execution_count": 446,
     "metadata": {},
     "output_type": "execute_result"
    }
   ],
   "source": [
    "guada_nearest_school.head(8)"
   ]
  },
  {
   "cell_type": "markdown",
   "metadata": {},
   "source": [
    "### Assemble X, y DataFrames"
   ]
  },
  {
   "cell_type": "code",
   "execution_count": null,
   "metadata": {},
   "outputs": [],
   "source": []
  },
  {
   "cell_type": "code",
   "execution_count": 447,
   "metadata": {},
   "outputs": [
    {
     "name": "stdout",
     "output_type": "stream",
     "text": [
      "Id \n",
      "124    0.0\n",
      "Name: count, dtype: float64\n",
      "Empty GeoDataFrame\n",
      "Columns: [id, name, geometry]\n",
      "Index: []\n"
     ]
    }
   ],
   "source": [
    "print(popscore[popscore == 0])\n",
    "print(nomenclature_geo[nomenclature_geo.id == 124]) # No idea why this is here..."
   ]
  },
  {
   "cell_type": "code",
   "execution_count": 448,
   "metadata": {},
   "outputs": [],
   "source": [
    "popscore = popscore.drop(labels=124)"
   ]
  },
  {
   "cell_type": "code",
   "execution_count": 449,
   "metadata": {},
   "outputs": [
    {
     "name": "stdout",
     "output_type": "stream",
     "text": [
      "372\n",
      "372\n"
     ]
    }
   ],
   "source": [
    "print(popscore.size)\n",
    "print(nomenclature_geo[\"geometry\"].size)"
   ]
  },
  {
   "cell_type": "code",
   "execution_count": 450,
   "metadata": {},
   "outputs": [
    {
     "name": "stdout",
     "output_type": "stream",
     "text": [
      "Empty GeoDataFrame\n",
      "Columns: [id, name, geometry]\n",
      "Index: []\n"
     ]
    }
   ],
   "source": [
    "print(nomenclature_geo[nomenclature_geo.id == 124])"
   ]
  },
  {
   "cell_type": "code",
   "execution_count": 451,
   "metadata": {},
   "outputs": [],
   "source": [
    "popscore = popscore.reset_index().rename(columns={\"count\" : \"score\"})"
   ]
  },
  {
   "cell_type": "code",
   "execution_count": 452,
   "metadata": {},
   "outputs": [
    {
     "data": {
      "text/html": [
       "<div>\n",
       "<style scoped>\n",
       "    .dataframe tbody tr th:only-of-type {\n",
       "        vertical-align: middle;\n",
       "    }\n",
       "\n",
       "    .dataframe tbody tr th {\n",
       "        vertical-align: top;\n",
       "    }\n",
       "\n",
       "    .dataframe thead th {\n",
       "        text-align: right;\n",
       "    }\n",
       "</style>\n",
       "<table border=\"1\" class=\"dataframe\">\n",
       "  <thead>\n",
       "    <tr style=\"text-align: right;\">\n",
       "      <th></th>\n",
       "      <th>Id</th>\n",
       "      <th>score</th>\n",
       "    </tr>\n",
       "  </thead>\n",
       "  <tbody>\n",
       "    <tr>\n",
       "      <th>0</th>\n",
       "      <td>2</td>\n",
       "      <td>0.213767</td>\n",
       "    </tr>\n",
       "    <tr>\n",
       "      <th>1</th>\n",
       "      <td>3</td>\n",
       "      <td>0.163095</td>\n",
       "    </tr>\n",
       "    <tr>\n",
       "      <th>2</th>\n",
       "      <td>4</td>\n",
       "      <td>0.227431</td>\n",
       "    </tr>\n",
       "    <tr>\n",
       "      <th>3</th>\n",
       "      <td>5</td>\n",
       "      <td>0.146381</td>\n",
       "    </tr>\n",
       "    <tr>\n",
       "      <th>4</th>\n",
       "      <td>6</td>\n",
       "      <td>0.139559</td>\n",
       "    </tr>\n",
       "  </tbody>\n",
       "</table>\n",
       "</div>"
      ],
      "text/plain": [
       "   Id     score\n",
       "0   2  0.213767\n",
       "1   3  0.163095\n",
       "2   4  0.227431\n",
       "3   5  0.146381\n",
       "4   6  0.139559"
      ]
     },
     "execution_count": 452,
     "metadata": {},
     "output_type": "execute_result"
    }
   ],
   "source": [
    "popscore.head()"
   ]
  },
  {
   "cell_type": "code",
   "execution_count": 453,
   "metadata": {},
   "outputs": [],
   "source": [
    "guada_df = nomenclature_geo\n",
    "guada_df.insert(loc=3, column=\"schooldist\", value=guada_nearest_school[\"dist\"])\n",
    "guada_df.insert(loc=4, column= \"collegedist\", value=guada_nearest_college[\"dist\"])\n",
    "guada_df.insert(loc=5, column= \"grocerydist\", value=guada_nearest_grocery[\"dist\"])\n",
    "guada_df.insert(loc=6, column= \"score\", value=popscore[\"score\"])"
   ]
  },
  {
   "cell_type": "code",
   "execution_count": 454,
   "metadata": {},
   "outputs": [
    {
     "data": {
      "text/html": [
       "<div>\n",
       "<style scoped>\n",
       "    .dataframe tbody tr th:only-of-type {\n",
       "        vertical-align: middle;\n",
       "    }\n",
       "\n",
       "    .dataframe tbody tr th {\n",
       "        vertical-align: top;\n",
       "    }\n",
       "\n",
       "    .dataframe thead th {\n",
       "        text-align: right;\n",
       "    }\n",
       "</style>\n",
       "<table border=\"1\" class=\"dataframe\">\n",
       "  <thead>\n",
       "    <tr style=\"text-align: right;\">\n",
       "      <th></th>\n",
       "      <th>id</th>\n",
       "      <th>name</th>\n",
       "      <th>geometry</th>\n",
       "      <th>schooldist</th>\n",
       "      <th>collegedist</th>\n",
       "      <th>grocerydist</th>\n",
       "      <th>score</th>\n",
       "    </tr>\n",
       "  </thead>\n",
       "  <tbody>\n",
       "    <tr>\n",
       "      <th>0</th>\n",
       "      <td>2</td>\n",
       "      <td>(GDL-001) C. Epigmenio Glez./ Av. 16 de Sept.</td>\n",
       "      <td>POINT (-103.34882 20.66638)</td>\n",
       "      <td>0.015914</td>\n",
       "      <td>0.006273</td>\n",
       "      <td>0.003158</td>\n",
       "      <td>0.213767</td>\n",
       "    </tr>\n",
       "    <tr>\n",
       "      <th>1</th>\n",
       "      <td>3</td>\n",
       "      <td>(GDL-002) C. Colonias  / Av.  Niños héroes</td>\n",
       "      <td>POINT (-103.36600 20.66723)</td>\n",
       "      <td>0.013081</td>\n",
       "      <td>0.003968</td>\n",
       "      <td>0.006840</td>\n",
       "      <td>0.163095</td>\n",
       "    </tr>\n",
       "    <tr>\n",
       "      <th>2</th>\n",
       "      <td>4</td>\n",
       "      <td>(GDL-003) C. Vidrio / Av. Chapultepec</td>\n",
       "      <td>POINT (-103.36825 20.66769)</td>\n",
       "      <td>0.014584</td>\n",
       "      <td>0.003131</td>\n",
       "      <td>0.009137</td>\n",
       "      <td>0.227431</td>\n",
       "    </tr>\n",
       "    <tr>\n",
       "      <th>3</th>\n",
       "      <td>5</td>\n",
       "      <td>(GDL-004) C. Ghilardi /C. Miraflores</td>\n",
       "      <td>POINT (-103.36255 20.69175)</td>\n",
       "      <td>0.008654</td>\n",
       "      <td>0.008443</td>\n",
       "      <td>0.008620</td>\n",
       "      <td>0.146381</td>\n",
       "    </tr>\n",
       "    <tr>\n",
       "      <th>4</th>\n",
       "      <td>6</td>\n",
       "      <td>(GDL-005) C. San Diego /Calzada Independencia</td>\n",
       "      <td>POINT (-103.33936 20.68116)</td>\n",
       "      <td>0.013344</td>\n",
       "      <td>0.007035</td>\n",
       "      <td>0.009834</td>\n",
       "      <td>0.139559</td>\n",
       "    </tr>\n",
       "  </tbody>\n",
       "</table>\n",
       "</div>"
      ],
      "text/plain": [
       "   id                                           name  \\\n",
       "0   2  (GDL-001) C. Epigmenio Glez./ Av. 16 de Sept.   \n",
       "1   3     (GDL-002) C. Colonias  / Av.  Niños héroes   \n",
       "2   4          (GDL-003) C. Vidrio / Av. Chapultepec   \n",
       "3   5           (GDL-004) C. Ghilardi /C. Miraflores   \n",
       "4   6  (GDL-005) C. San Diego /Calzada Independencia   \n",
       "\n",
       "                      geometry  schooldist  collegedist  grocerydist     score  \n",
       "0  POINT (-103.34882 20.66638)    0.015914     0.006273     0.003158  0.213767  \n",
       "1  POINT (-103.36600 20.66723)    0.013081     0.003968     0.006840  0.163095  \n",
       "2  POINT (-103.36825 20.66769)    0.014584     0.003131     0.009137  0.227431  \n",
       "3  POINT (-103.36255 20.69175)    0.008654     0.008443     0.008620  0.146381  \n",
       "4  POINT (-103.33936 20.68116)    0.013344     0.007035     0.009834  0.139559  "
      ]
     },
     "execution_count": 454,
     "metadata": {},
     "output_type": "execute_result"
    }
   ],
   "source": [
    "guada_df.head()"
   ]
  },
  {
   "cell_type": "code",
   "execution_count": 553,
   "metadata": {},
   "outputs": [
    {
     "data": {
      "text/html": [
       "<div>\n",
       "<style scoped>\n",
       "    .dataframe tbody tr th:only-of-type {\n",
       "        vertical-align: middle;\n",
       "    }\n",
       "\n",
       "    .dataframe tbody tr th {\n",
       "        vertical-align: top;\n",
       "    }\n",
       "\n",
       "    .dataframe thead th {\n",
       "        text-align: right;\n",
       "    }\n",
       "</style>\n",
       "<table border=\"1\" class=\"dataframe\">\n",
       "  <thead>\n",
       "    <tr style=\"text-align: right;\">\n",
       "      <th></th>\n",
       "      <th>id</th>\n",
       "      <th>name</th>\n",
       "      <th>geometry</th>\n",
       "      <th>schooldist</th>\n",
       "      <th>collegedist</th>\n",
       "      <th>grocerydist</th>\n",
       "      <th>score</th>\n",
       "    </tr>\n",
       "  </thead>\n",
       "  <tbody>\n",
       "    <tr>\n",
       "      <th>8</th>\n",
       "      <td>11</td>\n",
       "      <td>(GDL-009) Calz. Federalismo/ C. J. Angulo</td>\n",
       "      <td>POINT (-103.35384 20.68208)</td>\n",
       "      <td>0.020569</td>\n",
       "      <td>0.003721</td>\n",
       "      <td>0.010797</td>\n",
       "      <td>0.602014</td>\n",
       "    </tr>\n",
       "    <tr>\n",
       "      <th>32</th>\n",
       "      <td>35</td>\n",
       "      <td>(GDL-033) Av. Hidalgo / C. Pedro Loza</td>\n",
       "      <td>POINT (-103.34798 20.67742)</td>\n",
       "      <td>0.022104</td>\n",
       "      <td>0.001998</td>\n",
       "      <td>0.005622</td>\n",
       "      <td>0.574052</td>\n",
       "    </tr>\n",
       "    <tr>\n",
       "      <th>47</th>\n",
       "      <td>50</td>\n",
       "      <td>(GDL-048) C. Constancio Hernández/ Av. Juaréz</td>\n",
       "      <td>POINT (-103.35855 20.67472)</td>\n",
       "      <td>0.019383</td>\n",
       "      <td>0.001092</td>\n",
       "      <td>0.002111</td>\n",
       "      <td>0.659818</td>\n",
       "    </tr>\n",
       "    <tr>\n",
       "      <th>48</th>\n",
       "      <td>51</td>\n",
       "      <td>(GDL-049) Lopez Cotilla/ Marcos Castellanos</td>\n",
       "      <td>POINT (-103.35632 20.67409)</td>\n",
       "      <td>0.019096</td>\n",
       "      <td>0.002517</td>\n",
       "      <td>0.003852</td>\n",
       "      <td>1.000000</td>\n",
       "    </tr>\n",
       "    <tr>\n",
       "      <th>49</th>\n",
       "      <td>52</td>\n",
       "      <td>(GDL-050) C. Pedro Moreno / Calz. Federalismo</td>\n",
       "      <td>POINT (-103.35458 20.67575)</td>\n",
       "      <td>0.021130</td>\n",
       "      <td>0.000117</td>\n",
       "      <td>0.006035</td>\n",
       "      <td>0.598552</td>\n",
       "    </tr>\n",
       "    <tr>\n",
       "      <th>51</th>\n",
       "      <td>54</td>\n",
       "      <td>(GDL-052) Av. Juárez / Av. 16 de Septiembre</td>\n",
       "      <td>POINT (-103.34789 20.67524)</td>\n",
       "      <td>0.023419</td>\n",
       "      <td>0.000370</td>\n",
       "      <td>0.003617</td>\n",
       "      <td>0.565555</td>\n",
       "    </tr>\n",
       "  </tbody>\n",
       "</table>\n",
       "</div>"
      ],
      "text/plain": [
       "    id                                           name  \\\n",
       "8   11      (GDL-009) Calz. Federalismo/ C. J. Angulo   \n",
       "32  35          (GDL-033) Av. Hidalgo / C. Pedro Loza   \n",
       "47  50  (GDL-048) C. Constancio Hernández/ Av. Juaréz   \n",
       "48  51    (GDL-049) Lopez Cotilla/ Marcos Castellanos   \n",
       "49  52  (GDL-050) C. Pedro Moreno / Calz. Federalismo   \n",
       "51  54    (GDL-052) Av. Juárez / Av. 16 de Septiembre   \n",
       "\n",
       "                       geometry  schooldist  collegedist  grocerydist  \\\n",
       "8   POINT (-103.35384 20.68208)    0.020569     0.003721     0.010797   \n",
       "32  POINT (-103.34798 20.67742)    0.022104     0.001998     0.005622   \n",
       "47  POINT (-103.35855 20.67472)    0.019383     0.001092     0.002111   \n",
       "48  POINT (-103.35632 20.67409)    0.019096     0.002517     0.003852   \n",
       "49  POINT (-103.35458 20.67575)    0.021130     0.000117     0.006035   \n",
       "51  POINT (-103.34789 20.67524)    0.023419     0.000370     0.003617   \n",
       "\n",
       "       score  \n",
       "8   0.602014  \n",
       "32  0.574052  \n",
       "47  0.659818  \n",
       "48  1.000000  \n",
       "49  0.598552  \n",
       "51  0.565555  "
      ]
     },
     "execution_count": 553,
     "metadata": {},
     "output_type": "execute_result"
    }
   ],
   "source": [
    "guada_df[guada_df[\"score\"] > 0.5].head(10)"
   ]
  },
  {
   "cell_type": "code",
   "execution_count": 455,
   "metadata": {},
   "outputs": [],
   "source": [
    "#guada_df.to_csv(\"./data/guada_df.csv\")"
   ]
  },
  {
   "cell_type": "markdown",
   "metadata": {},
   "source": [
    "## Analysis of Guadalajara (finally)"
   ]
  },
  {
   "cell_type": "code",
   "execution_count": 456,
   "metadata": {},
   "outputs": [
    {
     "data": {
      "image/png": "[encoded data removed]",
      "text/plain": [
       "<Figure size 640x480 with 1 Axes>"
      ]
     },
     "metadata": {},
     "output_type": "display_data"
    }
   ],
   "source": [
    "sns.scatterplot(data=guada_df, x=\"schooldist\", y=\"score\")\n",
    "plt.show()"
   ]
  },
  {
   "cell_type": "code",
   "execution_count": 457,
   "metadata": {},
   "outputs": [
    {
     "data": {
      "image/png": "[encoded data removed]",
      "text/plain": [
       "<Figure size 640x480 with 1 Axes>"
      ]
     },
     "metadata": {},
     "output_type": "display_data"
    }
   ],
   "source": [
    "sns.scatterplot(data=guada_df, x=\"collegedist\", y=\"score\")\n",
    "plt.show()"
   ]
  },
  {
   "cell_type": "code",
   "execution_count": 458,
   "metadata": {},
   "outputs": [
    {
     "data": {
      "image/png": "[encoded data removed]",
      "text/plain": [
       "<Figure size 640x480 with 1 Axes>"
      ]
     },
     "metadata": {},
     "output_type": "display_data"
    }
   ],
   "source": [
    "sns.scatterplot(data=guada_df, x=\"grocerydist\", y=\"score\")\n",
    "plt.show()"
   ]
  },
  {
   "cell_type": "markdown",
   "metadata": {},
   "source": [
    "The scatterplots show us that a station's popularity has a negative (possibly inverse?) relationship with distance from the nearest college and the nearest grocery store. Interestingly, it displays a *positive* relationship with distance to the nearest \"school\". This could be partially explained by the fact that users of the service must be at least 16 years old, and if a school that a 16-or-under attends is nearby then it takes the place of another building that could attract potential users. This is purely speculative, however."
   ]
  },
  {
   "cell_type": "markdown",
   "metadata": {},
   "source": [
    "No relationship here seems very strong. It should be noted that these data points are *extremely* dirty and inaccurate; we didn't have the time or resources to actually find every instance of each school, college building, or grocery store in Guadalajara, and there are certainly types of geographical features that we did not account for, such as nearby major highways, stops for other types of public transportation, or worksites that are not easily searched for. "
   ]
  },
  {
   "cell_type": "code",
   "execution_count": 546,
   "metadata": {},
   "outputs": [],
   "source": [
    "from sklearn.model_selection import train_test_split, cross_validate, StratifiedShuffleSplit\n",
    "from sklearn.metrics import precision_recall_fscore_support\n",
    "train, test = train_test_split(guada_df.drop(columns={\"id\", \"name\", \"geometry\"}), test_size=0.15, random_state=1248)"
   ]
  },
  {
   "cell_type": "code",
   "execution_count": 464,
   "metadata": {},
   "outputs": [],
   "source": [
    "X_train = train.drop(columns={\"score\"})\n",
    "y_train = train[\"score\"]\n",
    "X_test = test.drop(columns={\"score\"})\n",
    "y_test = test[\"score\"]"
   ]
  },
  {
   "cell_type": "markdown",
   "metadata": {},
   "source": [
    "Since we're working with somewhat few data points, cross-validation is a good step to take here."
   ]
  },
  {
   "cell_type": "code",
   "execution_count": 500,
   "metadata": {},
   "outputs": [],
   "source": [
    "model0 = LinearRegression(n_jobs=10)\n",
    "scores = cross_validate(model0, X=X_train, y=y_train, scoring=\"r2\", cv=10)"
   ]
  },
  {
   "cell_type": "code",
   "execution_count": 501,
   "metadata": {},
   "outputs": [
    {
     "name": "stdout",
     "output_type": "stream",
     "text": [
      "[ 0.40543097  0.38009395  0.38835385  0.20476087  0.29927697  0.3828216\n",
      "  0.24577778 -0.50826821  0.34062857  0.21579896]\n"
     ]
    }
   ],
   "source": [
    "print(scores[\"test_score\"])"
   ]
  },
  {
   "cell_type": "code",
   "execution_count": 502,
   "metadata": {},
   "outputs": [
    {
     "name": "stdout",
     "output_type": "stream",
     "text": [
      "0.23546753142387106\n"
     ]
    }
   ],
   "source": [
    "print(scores[\"test_score\"].mean())"
   ]
  },
  {
   "cell_type": "markdown",
   "metadata": {},
   "source": [
    "A decent level of variance is expected with so few data points, but an r2 score of -0.51 is troubling... Will standardization and penalties help?"
   ]
  },
  {
   "cell_type": "code",
   "execution_count": 503,
   "metadata": {},
   "outputs": [],
   "source": [
    "guada_num = guada_df.drop(columns={\"id\", \"name\", \"geometry\"})\n",
    "guada_std = (guada_num - guada_num.mean())/guada_num.std()"
   ]
  },
  {
   "cell_type": "code",
   "execution_count": 504,
   "metadata": {},
   "outputs": [],
   "source": [
    "train, test = train_test_split(guada_df.drop(columns={\"id\", \"name\", \"geometry\"}), test_size=0.15, random_state=1248)\n",
    "X_train = train.drop(columns={\"score\"})\n",
    "y_train = train[\"score\"]\n",
    "X_test = test.drop(columns={\"score\"})\n",
    "y_test = test[\"score\"]"
   ]
  },
  {
   "cell_type": "code",
   "execution_count": 505,
   "metadata": {},
   "outputs": [],
   "source": [
    "from sklearn.linear_model import Ridge, ElasticNet, Lasso"
   ]
  },
  {
   "cell_type": "code",
   "execution_count": 506,
   "metadata": {},
   "outputs": [],
   "source": [
    "ridgemodel = Ridge()\n",
    "elasticmodel = ElasticNet()\n",
    "lassomodel = Lasso()\n",
    "\n",
    "models = list([model0, ridgemodel, elasticmodel, lassomodel])"
   ]
  },
  {
   "cell_type": "code",
   "execution_count": 507,
   "metadata": {},
   "outputs": [
    {
     "name": "stdout",
     "output_type": "stream",
     "text": [
      "0.23546753142387106\n",
      "-0.04662203588205629\n",
      "-0.05222784669067051\n",
      "-0.05222784669067051\n"
     ]
    }
   ],
   "source": [
    "for model in models:\n",
    "    scores0 = cross_validate(model, X=X_train, y=y_train, scoring=\"r2\", cv=10)\n",
    "    print(scores0[\"test_score\"].mean())"
   ]
  },
  {
   "cell_type": "markdown",
   "metadata": {},
   "source": [
    "Nope, there's no saving this dataset. But maybe our method here is incorrect..."
   ]
  },
  {
   "cell_type": "markdown",
   "metadata": {},
   "source": [
    "## Wait, this is a classification task..."
   ]
  },
  {
   "cell_type": "markdown",
   "metadata": {},
   "source": [
    "Predicting \"linear popularity\" doesn't not make sense, but it might make more sense to predict whether a station will fall above or below a certain threshhold of popularity. "
   ]
  },
  {
   "cell_type": "code",
   "execution_count": 509,
   "metadata": {},
   "outputs": [],
   "source": [
    "guada_num[\"super_popular\"] = (guada_num[\"score\"] >= 0.2)"
   ]
  },
  {
   "cell_type": "code",
   "execution_count": 510,
   "metadata": {},
   "outputs": [],
   "source": [
    "guada_class = guada_num.drop(columns={\"score\"})"
   ]
  },
  {
   "cell_type": "code",
   "execution_count": 517,
   "metadata": {},
   "outputs": [
    {
     "data": {
      "text/html": [
       "<div>\n",
       "<style scoped>\n",
       "    .dataframe tbody tr th:only-of-type {\n",
       "        vertical-align: middle;\n",
       "    }\n",
       "\n",
       "    .dataframe tbody tr th {\n",
       "        vertical-align: top;\n",
       "    }\n",
       "\n",
       "    .dataframe thead th {\n",
       "        text-align: right;\n",
       "    }\n",
       "</style>\n",
       "<table border=\"1\" class=\"dataframe\">\n",
       "  <thead>\n",
       "    <tr style=\"text-align: right;\">\n",
       "      <th></th>\n",
       "      <th>schooldist</th>\n",
       "      <th>collegedist</th>\n",
       "      <th>grocerydist</th>\n",
       "      <th>super_popular</th>\n",
       "    </tr>\n",
       "  </thead>\n",
       "  <tbody>\n",
       "    <tr>\n",
       "      <th>0</th>\n",
       "      <td>0.015914</td>\n",
       "      <td>0.006273</td>\n",
       "      <td>0.003158</td>\n",
       "      <td>True</td>\n",
       "    </tr>\n",
       "    <tr>\n",
       "      <th>1</th>\n",
       "      <td>0.013081</td>\n",
       "      <td>0.003968</td>\n",
       "      <td>0.006840</td>\n",
       "      <td>False</td>\n",
       "    </tr>\n",
       "    <tr>\n",
       "      <th>2</th>\n",
       "      <td>0.014584</td>\n",
       "      <td>0.003131</td>\n",
       "      <td>0.009137</td>\n",
       "      <td>True</td>\n",
       "    </tr>\n",
       "    <tr>\n",
       "      <th>3</th>\n",
       "      <td>0.008654</td>\n",
       "      <td>0.008443</td>\n",
       "      <td>0.008620</td>\n",
       "      <td>False</td>\n",
       "    </tr>\n",
       "    <tr>\n",
       "      <th>4</th>\n",
       "      <td>0.013344</td>\n",
       "      <td>0.007035</td>\n",
       "      <td>0.009834</td>\n",
       "      <td>False</td>\n",
       "    </tr>\n",
       "  </tbody>\n",
       "</table>\n",
       "</div>"
      ],
      "text/plain": [
       "   schooldist  collegedist  grocerydist  super_popular\n",
       "0    0.015914     0.006273     0.003158           True\n",
       "1    0.013081     0.003968     0.006840          False\n",
       "2    0.014584     0.003131     0.009137           True\n",
       "3    0.008654     0.008443     0.008620          False\n",
       "4    0.013344     0.007035     0.009834          False"
      ]
     },
     "execution_count": 517,
     "metadata": {},
     "output_type": "execute_result"
    }
   ],
   "source": [
    "guada_class.head()"
   ]
  },
  {
   "cell_type": "code",
   "execution_count": 511,
   "metadata": {},
   "outputs": [],
   "source": [
    "X_class = guada_class.drop(columns={\"super_popular\"})\n",
    "y_class = guada_class[\"super_popular\"]"
   ]
  },
  {
   "cell_type": "code",
   "execution_count": 512,
   "metadata": {},
   "outputs": [],
   "source": [
    "from sklearn.linear_model import LogisticRegression\n",
    "from sklearn.svm import SVC"
   ]
  },
  {
   "cell_type": "code",
   "execution_count": 514,
   "metadata": {},
   "outputs": [],
   "source": [
    "logimodel = LogisticRegression(random_state=1248)\n",
    "svmmodel = SVC(random_state=1248)\n",
    "\n",
    "classmodels = list([logimodel, svmmodel])"
   ]
  },
  {
   "cell_type": "code",
   "execution_count": 519,
   "metadata": {},
   "outputs": [
    {
     "name": "stdout",
     "output_type": "stream",
     "text": [
      "[0.84210526 0.84210526 0.83783784 0.83783784 0.83783784 0.83783784\n",
      " 0.83783784 0.86486486 0.86486486 0.86486486]\n",
      "[0.47368421 0.84210526 0.83783784 0.83783784 0.83783784 0.83783784\n",
      " 0.83783784 0.86486486 0.86486486 0.86486486]\n"
     ]
    }
   ],
   "source": [
    "for model in classmodels:\n",
    "    scores = cross_validate(model, X=X_class, y=y_class, cv=10)\n",
    "    print(scores[\"test_score\"])"
   ]
  },
  {
   "cell_type": "code",
   "execution_count": 550,
   "metadata": {},
   "outputs": [],
   "source": [
    "logimodel1 = LogisticRegression(random_state=1983)\n",
    "classtrain, classtest = train_test_split(guada_class, test_size=0.2, random_state=123)\n",
    "yc_train = classtrain[\"super_popular\"]\n",
    "Xc_test = classtest.drop(columns={\"super_popular\"})\n",
    "yc_test = classtest[\"super_popular\"]"
   ]
  },
  {
   "cell_type": "code",
   "execution_count": 551,
   "metadata": {},
   "outputs": [
    {
     "name": "stdout",
     "output_type": "stream",
     "text": [
      "0.7866666666666666\n",
      "(array([0.78666667, 0.        ]), array([1., 0.]), array([0.88059701, 0.        ]), array([59, 16], dtype=int64))\n"
     ]
    },
    {
     "name": "stderr",
     "output_type": "stream",
     "text": [
      "c:\\Users\\Nate\\AppData\\Local\\Programs\\Python\\Python311\\Lib\\site-packages\\sklearn\\metrics\\_classification.py:1509: UndefinedMetricWarning: Precision is ill-defined and being set to 0.0 in labels with no predicted samples. Use `zero_division` parameter to control this behavior.\n",
      "  _warn_prf(average, modifier, f\"{metric.capitalize()} is\", len(result))\n"
     ]
    }
   ],
   "source": [
    "logimodel1.fit(Xc_train, yc_train)\n",
    "print(logimodel1.score(Xc_test, yc_test))\n",
    "yc_pred = logimodel1.predict(Xc_test)\n",
    "print(precision_recall_fscore_support(yc_test, yc_pred))"
   ]
  }
 ],
 "metadata": {
  "kernelspec": {
   "display_name": "Python 3",
   "language": "python",
   "name": "python3"
  },
  "language_info": {
   "codemirror_mode": {
    "name": "ipython",
    "version": 3
   },
   "file_extension": ".py",
   "mimetype": "text/x-python",
   "name": "python",
   "nbconvert_exporter": "python",
   "pygments_lexer": "ipython3",
   "version": "3.11.6"
  }
 },
 "nbformat": 4,
 "nbformat_minor": 2
}
